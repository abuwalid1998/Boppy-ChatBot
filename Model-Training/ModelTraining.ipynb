{
 "cells": [
  {
   "cell_type": "code",
   "execution_count": 5,
   "metadata": {},
   "outputs": [
    {
     "ename": "ModuleNotFoundError",
     "evalue": "No module named 'transformers'",
     "output_type": "error",
     "traceback": [
      "\u001b[0;31m---------------------------------------------------------------------------\u001b[0m",
      "\u001b[0;31mModuleNotFoundError\u001b[0m                       Traceback (most recent call last)",
      "\u001b[1;32m/home/user/Boppy-ChatBot/Model-Training/ModelTraining.ipynb Cell 1\u001b[0m line \u001b[0;36m9\n\u001b[1;32m      <a href='vscode-notebook-cell://idx-boppy-chatbot-1719122447510.cluster-4ezwrnmkojawstf2k7vqy36oe6.cloudworkstations.dev/home/user/Boppy-ChatBot/Model-Training/ModelTraining.ipynb#W0sdnNjb2RlLXJlbW90ZQ%3D%3D?line=0'>1</a>\u001b[0m \u001b[39m# from transformers import GPT2LMHeadModel, GPT2Tokenizer, TextDataset, DataCollatorForLanguageModeling, Trainer, TrainingArguments\u001b[39;00m\n\u001b[1;32m      <a href='vscode-notebook-cell://idx-boppy-chatbot-1719122447510.cluster-4ezwrnmkojawstf2k7vqy36oe6.cloudworkstations.dev/home/user/Boppy-ChatBot/Model-Training/ModelTraining.ipynb#W0sdnNjb2RlLXJlbW90ZQ%3D%3D?line=1'>2</a>\u001b[0m \n\u001b[1;32m      <a href='vscode-notebook-cell://idx-boppy-chatbot-1719122447510.cluster-4ezwrnmkojawstf2k7vqy36oe6.cloudworkstations.dev/home/user/Boppy-ChatBot/Model-Training/ModelTraining.ipynb#W0sdnNjb2RlLXJlbW90ZQ%3D%3D?line=2'>3</a>\u001b[0m \u001b[39m# model_path = 'AmjadKha/Boppy'\u001b[39;00m\n\u001b[1;32m      <a href='vscode-notebook-cell://idx-boppy-chatbot-1719122447510.cluster-4ezwrnmkojawstf2k7vqy36oe6.cloudworkstations.dev/home/user/Boppy-ChatBot/Model-Training/ModelTraining.ipynb#W0sdnNjb2RlLXJlbW90ZQ%3D%3D?line=3'>4</a>\u001b[0m \n\u001b[1;32m      <a href='vscode-notebook-cell://idx-boppy-chatbot-1719122447510.cluster-4ezwrnmkojawstf2k7vqy36oe6.cloudworkstations.dev/home/user/Boppy-ChatBot/Model-Training/ModelTraining.ipynb#W0sdnNjb2RlLXJlbW90ZQ%3D%3D?line=4'>5</a>\u001b[0m \u001b[39m# tokenizer = GPT2Tokenizer.from_pretrained('AmjadKha/Boppy')\u001b[39;00m\n\u001b[1;32m      <a href='vscode-notebook-cell://idx-boppy-chatbot-1719122447510.cluster-4ezwrnmkojawstf2k7vqy36oe6.cloudworkstations.dev/home/user/Boppy-ChatBot/Model-Training/ModelTraining.ipynb#W0sdnNjb2RlLXJlbW90ZQ%3D%3D?line=5'>6</a>\u001b[0m \u001b[39m# model = GPT2LMHeadModel.from_pretrained(model_path)\u001b[39;00m\n\u001b[0;32m----> <a href='vscode-notebook-cell://idx-boppy-chatbot-1719122447510.cluster-4ezwrnmkojawstf2k7vqy36oe6.cloudworkstations.dev/home/user/Boppy-ChatBot/Model-Training/ModelTraining.ipynb#W0sdnNjb2RlLXJlbW90ZQ%3D%3D?line=8'>9</a>\u001b[0m \u001b[39mfrom\u001b[39;00m \u001b[39mtransformers\u001b[39;00m \u001b[39mimport\u001b[39;00m pipeline\n\u001b[1;32m     <a href='vscode-notebook-cell://idx-boppy-chatbot-1719122447510.cluster-4ezwrnmkojawstf2k7vqy36oe6.cloudworkstations.dev/home/user/Boppy-ChatBot/Model-Training/ModelTraining.ipynb#W0sdnNjb2RlLXJlbW90ZQ%3D%3D?line=10'>11</a>\u001b[0m pipe \u001b[39m=\u001b[39m pipeline(\u001b[39m\"\u001b[39m\u001b[39mtext-generation\u001b[39m\u001b[39m\"\u001b[39m, model\u001b[39m=\u001b[39m\u001b[39m\"\u001b[39m\u001b[39mAmjadKha/Boppy\u001b[39m\u001b[39m\"\u001b[39m)\n\u001b[1;32m     <a href='vscode-notebook-cell://idx-boppy-chatbot-1719122447510.cluster-4ezwrnmkojawstf2k7vqy36oe6.cloudworkstations.dev/home/user/Boppy-ChatBot/Model-Training/ModelTraining.ipynb#W0sdnNjb2RlLXJlbW90ZQ%3D%3D?line=11'>12</a>\u001b[0m tokenizer \u001b[39m=\u001b[39m pipe\u001b[39m.\u001b[39mtokenizer\n",
      "\u001b[0;31mModuleNotFoundError\u001b[0m: No module named 'transformers'"
     ]
    }
   ],
   "source": [
    "# from transformers import GPT2LMHeadModel, GPT2Tokenizer, TextDataset, DataCollatorForLanguageModeling, Trainer, TrainingArguments\n",
    "\n",
    "# model_path = 'AmjadKha/Boppy'\n",
    "\n",
    "# tokenizer = GPT2Tokenizer.from_pretrained('AmjadKha/Boppy')\n",
    "# model = GPT2LMHeadModel.from_pretrained(model_path)\n",
    "\n",
    "\n",
    "from transformers import pipeline\n",
    "\n",
    "pipe = pipeline(\"text-generation\", model=\"AmjadKha/Boppy\")\n",
    "tokenizer = pipe.tokenizer\n",
    "model = pipe.model\n"
   ]
  },
  {
   "cell_type": "code",
   "execution_count": 2,
   "metadata": {},
   "outputs": [
    {
     "ename": "TypeError",
     "evalue": "unsupported operand type(s) for +: 'float' and 'str'",
     "output_type": "error",
     "traceback": [
      "\u001b[0;31m---------------------------------------------------------------------------\u001b[0m",
      "\u001b[0;31mTypeError\u001b[0m                                 Traceback (most recent call last)",
      "\u001b[1;32m/home/user/Boppy-ChatBot/Model-Training/ModelTraining.ipynb Cell 2\u001b[0m line \u001b[0;36m1\n\u001b[1;32m     <a href='vscode-notebook-cell://idx-boppy-chatbot-1719122447510.cluster-4ezwrnmkojawstf2k7vqy36oe6.cloudworkstations.dev/home/user/Boppy-ChatBot/Model-Training/ModelTraining.ipynb#W1sdnNjb2RlLXJlbW90ZQ%3D%3D?line=11'>12</a>\u001b[0m question \u001b[39m=\u001b[39m item[\u001b[39m'\u001b[39m\u001b[39mquestion\u001b[39m\u001b[39m'\u001b[39m]\n\u001b[1;32m     <a href='vscode-notebook-cell://idx-boppy-chatbot-1719122447510.cluster-4ezwrnmkojawstf2k7vqy36oe6.cloudworkstations.dev/home/user/Boppy-ChatBot/Model-Training/ModelTraining.ipynb#W1sdnNjb2RlLXJlbW90ZQ%3D%3D?line=12'>13</a>\u001b[0m answer \u001b[39m=\u001b[39m item[\u001b[39m'\u001b[39m\u001b[39manswer\u001b[39m\u001b[39m'\u001b[39m]\n\u001b[0;32m---> <a href='vscode-notebook-cell://idx-boppy-chatbot-1719122447510.cluster-4ezwrnmkojawstf2k7vqy36oe6.cloudworkstations.dev/home/user/Boppy-ChatBot/Model-Training/ModelTraining.ipynb#W1sdnNjb2RlLXJlbW90ZQ%3D%3D?line=13'>14</a>\u001b[0m f\u001b[39m.\u001b[39mwrite(question \u001b[39m+\u001b[39;49m \u001b[39m'\u001b[39;49m\u001b[39m\\n\u001b[39;49;00m\u001b[39m'\u001b[39;49m)\n\u001b[1;32m     <a href='vscode-notebook-cell://idx-boppy-chatbot-1719122447510.cluster-4ezwrnmkojawstf2k7vqy36oe6.cloudworkstations.dev/home/user/Boppy-ChatBot/Model-Training/ModelTraining.ipynb#W1sdnNjb2RlLXJlbW90ZQ%3D%3D?line=14'>15</a>\u001b[0m f\u001b[39m.\u001b[39mwrite(answer \u001b[39m+\u001b[39m \u001b[39m'\u001b[39m\u001b[39m\\n\u001b[39;00m\u001b[39m'\u001b[39m)\n",
      "\u001b[0;31mTypeError\u001b[0m: unsupported operand type(s) for +: 'float' and 'str'"
     ]
    }
   ],
   "source": [
    "import json\n",
    "\n",
    "data_file_path = '/home/user/Boppy-ChatBot/Data/output.json'\n",
    "\n",
    "# Load JSON data\n",
    "with open(data_file_path, 'r', encoding='utf-8') as f:\n",
    "    data = json.load(f)\n",
    "\n",
    "# Prepare data for training\n",
    "with open('training_data.txt', 'w', encoding='utf-8') as f:\n",
    "    for item in data:\n",
    "        question = item['question']\n",
    "        answer = item['answer']\n",
    "        f.write(question + '\\n')\n",
    "        f.write(answer + '\\n')\n"
   ]
  },
  {
   "cell_type": "code",
   "execution_count": 16,
   "metadata": {},
   "outputs": [
    {
     "name": "stderr",
     "output_type": "stream",
     "text": [
      "c:\\Users\\HP\\AppData\\Local\\Programs\\Python\\Python312\\Lib\\site-packages\\transformers\\data\\datasets\\language_modeling.py:53: FutureWarning: This dataset will be removed from the library soon, preprocessing should be handled with the 🤗 Datasets library. You can have a look at this example script for pointers: https://github.com/huggingface/transformers/blob/main/examples/pytorch/language-modeling/run_mlm.py\n",
      "  warnings.warn(\n"
     ]
    }
   ],
   "source": [
    "from transformers import TextDataset, DataCollatorForLanguageModeling\n",
    "\n",
    "train_dataset = TextDataset(\n",
    "    tokenizer=tokenizer,\n",
    "    file_path=\"training_data.txt\",  # Path to your training text file\n",
    "    block_size=128  # Specify maximum sequence length\n",
    ")\n",
    "\n",
    "data_collator = DataCollatorForLanguageModeling(\n",
    "    tokenizer=tokenizer, \n",
    "    mlm=False  # We are not doing masked language modeling\n",
    ")\n"
   ]
  },
  {
   "cell_type": "code",
   "execution_count": 17,
   "metadata": {},
   "outputs": [],
   "source": [
    "# Data collator\n",
    "data_collator = DataCollatorForLanguageModeling(\n",
    "    tokenizer=tokenizer,\n",
    "    mlm=False  # We are not doing masked language modeling\n",
    ")"
   ]
  },
  {
   "cell_type": "code",
   "execution_count": 18,
   "metadata": {},
   "outputs": [],
   "source": [
    "# Training arguments\n",
    "training_args = TrainingArguments(\n",
    "    output_dir='./results',\n",
    "    overwrite_output_dir=True,\n",
    "    num_train_epochs=3,\n",
    "    per_device_train_batch_size=8,\n",
    "    save_steps=10_000,\n",
    "    save_total_limit=2,\n",
    ")"
   ]
  },
  {
   "cell_type": "code",
   "execution_count": 19,
   "metadata": {},
   "outputs": [],
   "source": [
    "trainer = Trainer(\n",
    "    model=model,\n",
    "    args=training_args,\n",
    "    data_collator=data_collator,\n",
    "    train_dataset=train_dataset,\n",
    ")"
   ]
  },
  {
   "cell_type": "code",
   "execution_count": 20,
   "metadata": {},
   "outputs": [
    {
     "data": {
      "application/vnd.jupyter.widget-view+json": {
       "model_id": "82af038c47ec4821b55c6481d29619da",
       "version_major": 2,
       "version_minor": 0
      },
      "text/plain": [
       "  0%|          | 0/789 [00:00<?, ?it/s]"
      ]
     },
     "metadata": {},
     "output_type": "display_data"
    },
    {
     "name": "stdout",
     "output_type": "stream",
     "text": [
      "{'loss': 2.1157, 'grad_norm': 6.859509468078613, 'learning_rate': 1.8314321926489228e-05, 'epoch': 1.9}\n",
      "{'train_runtime': 6588.5116, 'train_samples_per_second': 0.957, 'train_steps_per_second': 0.12, 'train_loss': 2.005537257901616, 'epoch': 3.0}\n"
     ]
    },
    {
     "data": {
      "text/plain": [
       "TrainOutput(global_step=789, training_loss=2.005537257901616, metrics={'train_runtime': 6588.5116, 'train_samples_per_second': 0.957, 'train_steps_per_second': 0.12, 'total_flos': 411730919424000.0, 'train_loss': 2.005537257901616, 'epoch': 3.0})"
      ]
     },
     "execution_count": 20,
     "metadata": {},
     "output_type": "execute_result"
    }
   ],
   "source": [
    "trainer.train()"
   ]
  },
  {
   "cell_type": "code",
   "execution_count": 21,
   "metadata": {},
   "outputs": [
    {
     "data": {
      "text/plain": [
       "('C:/Users/HP/Desktop/BankofPalesintChatbot/EvaluatedModel\\\\tokenizer_config.json',\n",
       " 'C:/Users/HP/Desktop/BankofPalesintChatbot/EvaluatedModel\\\\special_tokens_map.json',\n",
       " 'C:/Users/HP/Desktop/BankofPalesintChatbot/EvaluatedModel\\\\vocab.json',\n",
       " 'C:/Users/HP/Desktop/BankofPalesintChatbot/EvaluatedModel\\\\merges.txt',\n",
       " 'C:/Users/HP/Desktop/BankofPalesintChatbot/EvaluatedModel\\\\added_tokens.json')"
      ]
     },
     "execution_count": 21,
     "metadata": {},
     "output_type": "execute_result"
    }
   ],
   "source": [
    "model.save_pretrained('C:/Users/HP/Desktop/BankofPalesintChatbot/EvaluatedModel')\n",
    "tokenizer.save_pretrained('C:/Users/HP/Desktop/BankofPalesintChatbot/EvaluatedModel')"
   ]
  }
 ],
 "metadata": {
  "kernelspec": {
   "display_name": "Python 3",
   "language": "python",
   "name": "python3"
  },
  "language_info": {
   "codemirror_mode": {
    "name": "ipython",
    "version": 3
   },
   "file_extension": ".py",
   "mimetype": "text/x-python",
   "name": "python",
   "nbconvert_exporter": "python",
   "pygments_lexer": "ipython3",
   "version": "3.11.8"
  }
 },
 "nbformat": 4,
 "nbformat_minor": 2
}
